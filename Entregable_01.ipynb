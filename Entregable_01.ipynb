{
  "cells": [
    {
      "cell_type": "markdown",
      "metadata": {
        "id": "lgbz_E2ZMmCk"
      },
      "source": [
        "Profesor: Alberto Vacas"
      ]
    },
    {
      "cell_type": "code",
      "execution_count": 268,
      "metadata": {
        "id": "nsHVHJJVN2Ah"
      },
      "outputs": [],
      "source": [
        "import pandas as pd\n",
        "import numpy as np\n",
        "import matplotlib.pyplot as plt\n",
        "import seaborn as sns\n",
        "from sklearn.preprocessing import LabelEncoder, OrdinalEncoder, MinMaxScaler\n",
        "import requests"
      ]
    },
    {
      "cell_type": "code",
      "execution_count": 269,
      "metadata": {
        "colab": {
          "base_uri": "https://localhost:8080/",
          "height": 226
        },
        "id": "X1K6Hav-QQKt",
        "outputId": "96ad2452-1330-4c96-cbe8-e3a7c71d927f"
      },
      "outputs": [
        {
          "data": {
            "text/html": [
              "<div>\n",
              "<style scoped>\n",
              "    .dataframe tbody tr th:only-of-type {\n",
              "        vertical-align: middle;\n",
              "    }\n",
              "\n",
              "    .dataframe tbody tr th {\n",
              "        vertical-align: top;\n",
              "    }\n",
              "\n",
              "    .dataframe thead th {\n",
              "        text-align: right;\n",
              "    }\n",
              "</style>\n",
              "<table border=\"1\" class=\"dataframe\">\n",
              "  <thead>\n",
              "    <tr style=\"text-align: right;\">\n",
              "      <th></th>\n",
              "      <th>marca</th>\n",
              "      <th>modelo</th>\n",
              "      <th>km</th>\n",
              "      <th>potencia</th>\n",
              "      <th>fecha_registro</th>\n",
              "      <th>tipo_gasolina</th>\n",
              "      <th>color</th>\n",
              "      <th>tipo_coche</th>\n",
              "      <th>volante_regulable</th>\n",
              "      <th>aire_acondicionado</th>\n",
              "      <th>camara_trasera</th>\n",
              "      <th>asientos_traseros_plegables</th>\n",
              "      <th>elevalunas_electrico</th>\n",
              "      <th>bluetooth</th>\n",
              "      <th>gps</th>\n",
              "      <th>alerta_lim_velocidad</th>\n",
              "      <th>precio</th>\n",
              "      <th>fecha_venta</th>\n",
              "    </tr>\n",
              "  </thead>\n",
              "  <tbody>\n",
              "    <tr>\n",
              "      <th>0</th>\n",
              "      <td>NaN</td>\n",
              "      <td>118</td>\n",
              "      <td>140411.0</td>\n",
              "      <td>100.0</td>\n",
              "      <td>2012-02-01</td>\n",
              "      <td>diesel</td>\n",
              "      <td>black</td>\n",
              "      <td>NaN</td>\n",
              "      <td>True</td>\n",
              "      <td>True</td>\n",
              "      <td>False</td>\n",
              "      <td>NaN</td>\n",
              "      <td>True</td>\n",
              "      <td>NaN</td>\n",
              "      <td>True</td>\n",
              "      <td>NaN</td>\n",
              "      <td>11300.0</td>\n",
              "      <td>2018-01-01</td>\n",
              "    </tr>\n",
              "    <tr>\n",
              "      <th>1</th>\n",
              "      <td>BMW</td>\n",
              "      <td>M4</td>\n",
              "      <td>13929.0</td>\n",
              "      <td>317.0</td>\n",
              "      <td>NaN</td>\n",
              "      <td>petrol</td>\n",
              "      <td>grey</td>\n",
              "      <td>convertible</td>\n",
              "      <td>True</td>\n",
              "      <td>True</td>\n",
              "      <td>False</td>\n",
              "      <td>NaN</td>\n",
              "      <td>False</td>\n",
              "      <td>True</td>\n",
              "      <td>True</td>\n",
              "      <td>True</td>\n",
              "      <td>69700.0</td>\n",
              "      <td>2018-02-01</td>\n",
              "    </tr>\n",
              "    <tr>\n",
              "      <th>2</th>\n",
              "      <td>BMW</td>\n",
              "      <td>320</td>\n",
              "      <td>183297.0</td>\n",
              "      <td>120.0</td>\n",
              "      <td>2012-04-01</td>\n",
              "      <td>diesel</td>\n",
              "      <td>white</td>\n",
              "      <td>NaN</td>\n",
              "      <td>False</td>\n",
              "      <td>False</td>\n",
              "      <td>False</td>\n",
              "      <td>NaN</td>\n",
              "      <td>True</td>\n",
              "      <td>False</td>\n",
              "      <td>True</td>\n",
              "      <td>False</td>\n",
              "      <td>10200.0</td>\n",
              "      <td>2018-02-01</td>\n",
              "    </tr>\n",
              "    <tr>\n",
              "      <th>3</th>\n",
              "      <td>BMW</td>\n",
              "      <td>420</td>\n",
              "      <td>128035.0</td>\n",
              "      <td>135.0</td>\n",
              "      <td>NaN</td>\n",
              "      <td>diesel</td>\n",
              "      <td>red</td>\n",
              "      <td>convertible</td>\n",
              "      <td>True</td>\n",
              "      <td>True</td>\n",
              "      <td>False</td>\n",
              "      <td>NaN</td>\n",
              "      <td>True</td>\n",
              "      <td>True</td>\n",
              "      <td>True</td>\n",
              "      <td>NaN</td>\n",
              "      <td>25100.0</td>\n",
              "      <td>2018-02-01</td>\n",
              "    </tr>\n",
              "    <tr>\n",
              "      <th>4</th>\n",
              "      <td>BMW</td>\n",
              "      <td>425</td>\n",
              "      <td>97097.0</td>\n",
              "      <td>160.0</td>\n",
              "      <td>NaN</td>\n",
              "      <td>diesel</td>\n",
              "      <td>silver</td>\n",
              "      <td>NaN</td>\n",
              "      <td>True</td>\n",
              "      <td>True</td>\n",
              "      <td>False</td>\n",
              "      <td>False</td>\n",
              "      <td>False</td>\n",
              "      <td>True</td>\n",
              "      <td>True</td>\n",
              "      <td>True</td>\n",
              "      <td>33400.0</td>\n",
              "      <td>2018-04-01</td>\n",
              "    </tr>\n",
              "  </tbody>\n",
              "</table>\n",
              "</div>"
            ],
            "text/plain": [
              "  marca modelo        km  potencia fecha_registro tipo_gasolina   color  \\\n",
              "0   NaN    118  140411.0     100.0     2012-02-01        diesel   black   \n",
              "1   BMW     M4   13929.0     317.0            NaN        petrol    grey   \n",
              "2   BMW    320  183297.0     120.0     2012-04-01        diesel   white   \n",
              "3   BMW    420  128035.0     135.0            NaN        diesel     red   \n",
              "4   BMW    425   97097.0     160.0            NaN        diesel  silver   \n",
              "\n",
              "    tipo_coche volante_regulable aire_acondicionado camara_trasera  \\\n",
              "0          NaN              True               True          False   \n",
              "1  convertible              True               True          False   \n",
              "2          NaN             False              False          False   \n",
              "3  convertible              True               True          False   \n",
              "4          NaN              True               True          False   \n",
              "\n",
              "  asientos_traseros_plegables elevalunas_electrico bluetooth   gps  \\\n",
              "0                         NaN                 True       NaN  True   \n",
              "1                         NaN                False      True  True   \n",
              "2                         NaN                 True     False  True   \n",
              "3                         NaN                 True      True  True   \n",
              "4                       False                False      True  True   \n",
              "\n",
              "  alerta_lim_velocidad   precio fecha_venta  \n",
              "0                  NaN  11300.0  2018-01-01  \n",
              "1                 True  69700.0  2018-02-01  \n",
              "2                False  10200.0  2018-02-01  \n",
              "3                  NaN  25100.0  2018-02-01  \n",
              "4                 True  33400.0  2018-04-01  "
            ]
          },
          "execution_count": 269,
          "metadata": {},
          "output_type": "execute_result"
        }
      ],
      "source": [
        "df_bmw=pd.read_csv('bmw_pricing.csv')\n",
        "df_bmw.head()"
      ]
    },
    {
      "cell_type": "markdown",
      "metadata": {
        "id": "aQuERtVkN0oF"
      },
      "source": [
        "# 1.Análisis inicial de los datos\n",
        "Objetivo: Limpiar los datos para precedir el precio del vehiculo"
      ]
    },
    {
      "cell_type": "code",
      "execution_count": 270,
      "metadata": {
        "colab": {
          "base_uri": "https://localhost:8080/"
        },
        "id": "l9G4Z7TMMJ8P",
        "outputId": "c0da2762-ede1-4e9b-8920-fa0b4184d250"
      },
      "outputs": [
        {
          "name": "stdout",
          "output_type": "stream",
          "text": [
            "<class 'pandas.core.frame.DataFrame'>\n",
            "RangeIndex: 4843 entries, 0 to 4842\n",
            "Data columns (total 18 columns):\n",
            " #   Column                       Non-Null Count  Dtype  \n",
            "---  ------                       --------------  -----  \n",
            " 0   marca                        3873 non-null   object \n",
            " 1   modelo                       4840 non-null   object \n",
            " 2   km                           4841 non-null   float64\n",
            " 3   potencia                     4842 non-null   float64\n",
            " 4   fecha_registro               2420 non-null   object \n",
            " 5   tipo_gasolina                4838 non-null   object \n",
            " 6   color                        4398 non-null   object \n",
            " 7   tipo_coche                   3383 non-null   object \n",
            " 8   volante_regulable            4839 non-null   object \n",
            " 9   aire_acondicionado           4357 non-null   object \n",
            " 10  camara_trasera               4841 non-null   object \n",
            " 11  asientos_traseros_plegables  1452 non-null   object \n",
            " 12  elevalunas_electrico         4841 non-null   object \n",
            " 13  bluetooth                    4115 non-null   object \n",
            " 14  gps                          4843 non-null   bool   \n",
            " 15  alerta_lim_velocidad         4115 non-null   object \n",
            " 16  precio                       4837 non-null   float64\n",
            " 17  fecha_venta                  4842 non-null   object \n",
            "dtypes: bool(1), float64(3), object(14)\n",
            "memory usage: 648.1+ KB\n"
          ]
        }
      ],
      "source": [
        "df_bmw.info()"
      ]
    },
    {
      "cell_type": "code",
      "execution_count": 271,
      "metadata": {
        "colab": {
          "base_uri": "https://localhost:8080/",
          "height": 648
        },
        "id": "S10tZYF2S4_J",
        "outputId": "6b73a65b-78ef-423b-d58f-f9bc9998d5d1"
      },
      "outputs": [
        {
          "data": {
            "text/plain": [
              "marca                             1\n",
              "modelo                           76\n",
              "km                             4784\n",
              "potencia                         61\n",
              "fecha_registro                  180\n",
              "tipo_gasolina                     5\n",
              "color                            10\n",
              "tipo_coche                        8\n",
              "volante_regulable                 2\n",
              "aire_acondicionado                2\n",
              "camara_trasera                    2\n",
              "asientos_traseros_plegables       2\n",
              "elevalunas_electrico              2\n",
              "bluetooth                         2\n",
              "gps                               2\n",
              "alerta_lim_velocidad              2\n",
              "precio                          437\n",
              "fecha_venta                      13\n",
              "dtype: int64"
            ]
          },
          "execution_count": 271,
          "metadata": {},
          "output_type": "execute_result"
        }
      ],
      "source": [
        "df_bmw.nunique()"
      ]
    },
    {
      "cell_type": "markdown",
      "metadata": {
        "id": "_FtAgn9ZS_nq"
      },
      "source": [
        "Comprobamos cuantos registros tiene cada columna sin tener en cuenta si tienen nulos o no. Vemos que la columna Marca sólo tiene un valor, por lo que se puede presuponer que podemos eliminar la columna.\n",
        "Sin embargo, comprobamos si hay nulos.\n",
        "\n",
        "---\n",
        "\n"
      ]
    },
    {
      "cell_type": "code",
      "execution_count": 272,
      "metadata": {
        "colab": {
          "base_uri": "https://localhost:8080/",
          "height": 648
        },
        "id": "DS1QG-GDRaN9",
        "outputId": "4cd72bdb-a218-420a-f3d8-8f7f3afad685"
      },
      "outputs": [
        {
          "data": {
            "text/plain": [
              "marca                           True\n",
              "modelo                          True\n",
              "km                              True\n",
              "potencia                        True\n",
              "fecha_registro                  True\n",
              "tipo_gasolina                   True\n",
              "color                           True\n",
              "tipo_coche                      True\n",
              "volante_regulable               True\n",
              "aire_acondicionado              True\n",
              "camara_trasera                  True\n",
              "asientos_traseros_plegables     True\n",
              "elevalunas_electrico            True\n",
              "bluetooth                       True\n",
              "gps                            False\n",
              "alerta_lim_velocidad            True\n",
              "precio                          True\n",
              "fecha_venta                     True\n",
              "dtype: bool"
            ]
          },
          "execution_count": 272,
          "metadata": {},
          "output_type": "execute_result"
        }
      ],
      "source": [
        "df_bmw.isnull().any()\n",
        "#df_bmw.nunique(dropna=False) incluye los nulos\n",
        "#también se puede mirar con df_bmw[\"marca\"].unique()\n"
      ]
    },
    {
      "cell_type": "markdown",
      "metadata": {
        "id": "7mJH_g1aTZrZ"
      },
      "source": [
        "En la columna marca hay nulos, por lo que debemos ver si puede haber alguna otra marca de vehiculo dentro del dataset. Miramos el porcentaje de datos que representa para ver que tan relevante es esta información."
      ]
    },
    {
      "cell_type": "code",
      "execution_count": 273,
      "metadata": {
        "colab": {
          "base_uri": "https://localhost:8080/",
          "height": 648
        },
        "id": "b2A1D5LIVTaW",
        "outputId": "b8e2b61a-f154-453e-90f0-7d46e2b8e23d"
      },
      "outputs": [
        {
          "data": {
            "text/plain": [
              "asientos_traseros_plegables    70.018584\n",
              "fecha_registro                 50.030973\n",
              "tipo_coche                     30.146603\n",
              "marca                          20.028908\n",
              "alerta_lim_velocidad           15.032005\n",
              "bluetooth                      15.032005\n",
              "aire_acondicionado             10.035102\n",
              "color                           9.188520\n",
              "precio                          0.123890\n",
              "tipo_gasolina                   0.103242\n",
              "volante_regulable               0.082593\n",
              "modelo                          0.061945\n",
              "camara_trasera                  0.041297\n",
              "elevalunas_electrico            0.041297\n",
              "km                              0.041297\n",
              "potencia                        0.020648\n",
              "fecha_venta                     0.020648\n",
              "gps                             0.000000\n",
              "dtype: float64"
            ]
          },
          "execution_count": 273,
          "metadata": {},
          "output_type": "execute_result"
        }
      ],
      "source": [
        "porcentaje_nulos=df_bmw.isnull().sum()/df_bmw.shape[0]*100\n",
        "porcentaje_nulos.sort_values(ascending=False)\n",
        "# puede calcularse tambien con la función len(df_bmw)"
      ]
    },
    {
      "cell_type": "markdown",
      "metadata": {
        "id": "GR_Fl4wUVldE"
      },
      "source": [
        "Mirando el volumen que representa, no podemos eliminar la columna ya que es un 20%. Podemos chequear otro camino ya que intuimos que la información es redundante.\n",
        "Chequearemos que registros sin marca asignada tienen modelos asociados a BMW."
      ]
    },
    {
      "cell_type": "code",
      "execution_count": 274,
      "metadata": {
        "colab": {
          "base_uri": "https://localhost:8080/"
        },
        "id": "fMf3fTW3W2CL",
        "outputId": "2437aec8-8913-4877-de4d-fef0597595c7"
      },
      "outputs": [
        {
          "name": "stdout",
          "output_type": "stream",
          "text": [
            "['118' 'Z4' '325' '218' '120' 'M235' '425' '435' '640' '420' '220' 'M4'\n",
            " '320' '630' '318' '520' '316' '535' '525' '518' '530' 'M550' '330' '116'\n",
            " '528' '328' '125' '420 Gran Coupé' '114' '320 Gran Turismo'\n",
            " '318 Gran Turismo' '530 Gran Turismo' '418 Gran Coupé' '520 Gran Turismo'\n",
            " '135' '435 Gran Coupé' '640 Gran Coupé' '740' '730' 'X1' 'X3' 'X5' 'X6'\n",
            " 'X4' 'X6 M' 'X5 M' 'X5 M50' '220 Active Tourer' '218 Active Tourer'\n",
            " '225 Active Tourer' '218 Gran Tourer']\n"
          ]
        }
      ],
      "source": [
        "modelo_nulo=df_bmw[df_bmw[\"marca\"].isnull()][\"modelo\"].unique()\n",
        "print(modelo_nulo)"
      ]
    },
    {
      "cell_type": "markdown",
      "metadata": {
        "id": "mJe-dnh3Y32N"
      },
      "source": [
        "Vemos que todos los modelos con filas en la columna marca tienen NA son modelos de BMW."
      ]
    },
    {
      "cell_type": "code",
      "execution_count": 275,
      "metadata": {
        "id": "f36t1Qg1ZJ71"
      },
      "outputs": [],
      "source": [
        "df_bmw_2=df_bmw.copy()\n",
        "df_bmw_2.drop(columns=\"marca\", inplace=True)"
      ]
    },
    {
      "cell_type": "markdown",
      "metadata": {
        "id": "sUhys0NAb71O"
      },
      "source": [
        "Además, hemos visto que en la columna \"asientos_traseros_plegables\" hay un 70% de datos que son NA. Vemos que datos hay dentro, para confirmar si son relevantes, y si no lo son, también la eliminaremos."
      ]
    },
    {
      "cell_type": "code",
      "execution_count": 276,
      "metadata": {
        "colab": {
          "base_uri": "https://localhost:8080/",
          "height": 209
        },
        "id": "_lGtvjrhcKhD",
        "outputId": "78d17fbe-3478-464f-b570-ddd7269060d2"
      },
      "outputs": [
        {
          "data": {
            "text/plain": [
              "asientos_traseros_plegables\n",
              "NaN      3391\n",
              "False    1150\n",
              "True      302\n",
              "Name: count, dtype: int64"
            ]
          },
          "execution_count": 276,
          "metadata": {},
          "output_type": "execute_result"
        }
      ],
      "source": [
        "df_bmw_2[\"asientos_traseros_plegables\"].value_counts(dropna=False)"
      ]
    },
    {
      "cell_type": "markdown",
      "metadata": {
        "id": "nvUfRajCqJvq"
      },
      "source": [
        "Chequearemos si hay vehiculos, que tengan el mismo modelo (una de las columnas con menos elementos nulos), que tengan un cambio en el precio en función de si tienen o no asientos traseros plegables"
      ]
    },
    {
      "cell_type": "code",
      "execution_count": 277,
      "metadata": {
        "id": "kj2I_YOlZfbl"
      },
      "outputs": [],
      "source": [
        "def separate_values(df, columna, value1 = True, value2 = False):\n",
        "    first_condition_list = []\n",
        "    second_condition_list = []\n",
        "    no_value = []\n",
        "    for index, row in df.iterrows():\n",
        "        if row[f\"{columna}\"] == value1:\n",
        "            first_condition_list.append({row[\"precio\"], row[\"modelo\"]})\n",
        "        elif row[f\"{columna}\"] == value2:\n",
        "            second_condition_list.append({row[\"precio\"], row[\"modelo\"]})\n",
        "        else:\n",
        "            no_value.append({row[\"precio\"], row[\"modelo\"]})\n",
        "    return first_condition_list, second_condition_list"
      ]
    },
    {
      "cell_type": "code",
      "execution_count": 278,
      "metadata": {
        "id": "9fD0KT0s_pMJ"
      },
      "outputs": [],
      "source": [
        "lista_con_asientos, lista_sin_asientos = separate_values(df_bmw,\"asientos_traseros_plegables\")"
      ]
    },
    {
      "cell_type": "code",
      "execution_count": 279,
      "metadata": {
        "id": "B9e8lto1thpY"
      },
      "outputs": [],
      "source": [
        "# Convertir cada set a una lista ordenada (ej: strings primero)\n",
        "lista_ordenada_con = [\n",
        "    sorted(s, key=lambda x: isinstance(x, str), reverse=True)\n",
        "    for s in lista_con_asientos\n",
        "]\n",
        "df_asientos_true = pd.DataFrame(lista_ordenada_con, columns=[\"modelo\", \"precio\"]) # df del modelo y precio de los TRUE\n",
        "lista_ordenada_sin = [\n",
        "    sorted(s, key=lambda x: isinstance(x, str), reverse=True)\n",
        "    for s in lista_sin_asientos\n",
        "]\n",
        "df_asientos_false = pd.DataFrame(lista_ordenada_sin, columns=[\"modelo\", \"precio\"]) # df de el modelo y el precio de los FALSE"
      ]
    },
    {
      "cell_type": "markdown",
      "metadata": {
        "id": "TlS5GGz4A5QD"
      },
      "source": [
        "Miramos en el data set = true los valores duplicados para ver si el"
      ]
    },
    {
      "cell_type": "code",
      "execution_count": 280,
      "metadata": {
        "colab": {
          "base_uri": "https://localhost:8080/",
          "height": 1000
        },
        "id": "beUwXznM_3Yu",
        "outputId": "c0846ba0-4f80-42cc-d86c-400c1f1e3395"
      },
      "outputs": [
        {
          "data": {
            "text/html": [
              "<div>\n",
              "<style scoped>\n",
              "    .dataframe tbody tr th:only-of-type {\n",
              "        vertical-align: middle;\n",
              "    }\n",
              "\n",
              "    .dataframe tbody tr th {\n",
              "        vertical-align: top;\n",
              "    }\n",
              "\n",
              "    .dataframe thead th {\n",
              "        text-align: right;\n",
              "    }\n",
              "</style>\n",
              "<table border=\"1\" class=\"dataframe\">\n",
              "  <thead>\n",
              "    <tr style=\"text-align: right;\">\n",
              "      <th></th>\n",
              "      <th>modelo</th>\n",
              "      <th>precio</th>\n",
              "    </tr>\n",
              "  </thead>\n",
              "  <tbody>\n",
              "    <tr>\n",
              "      <th>269</th>\n",
              "      <td>X6</td>\n",
              "      <td>22000.0</td>\n",
              "    </tr>\n",
              "    <tr>\n",
              "      <th>274</th>\n",
              "      <td>X6</td>\n",
              "      <td>22000.0</td>\n",
              "    </tr>\n",
              "    <tr>\n",
              "      <th>247</th>\n",
              "      <td>X5</td>\n",
              "      <td>37800.0</td>\n",
              "    </tr>\n",
              "    <tr>\n",
              "      <th>285</th>\n",
              "      <td>X5</td>\n",
              "      <td>37400.0</td>\n",
              "    </tr>\n",
              "    <tr>\n",
              "      <th>253</th>\n",
              "      <td>X5</td>\n",
              "      <td>34500.0</td>\n",
              "    </tr>\n",
              "    <tr>\n",
              "      <th>262</th>\n",
              "      <td>X5</td>\n",
              "      <td>34500.0</td>\n",
              "    </tr>\n",
              "    <tr>\n",
              "      <th>288</th>\n",
              "      <td>X5</td>\n",
              "      <td>34200.0</td>\n",
              "    </tr>\n",
              "    <tr>\n",
              "      <th>291</th>\n",
              "      <td>X5</td>\n",
              "      <td>13700.0</td>\n",
              "    </tr>\n",
              "    <tr>\n",
              "      <th>237</th>\n",
              "      <td>X3</td>\n",
              "      <td>27300.0</td>\n",
              "    </tr>\n",
              "    <tr>\n",
              "      <th>283</th>\n",
              "      <td>X3</td>\n",
              "      <td>26800.0</td>\n",
              "    </tr>\n",
              "    <tr>\n",
              "      <th>205</th>\n",
              "      <td>X3</td>\n",
              "      <td>26700.0</td>\n",
              "    </tr>\n",
              "    <tr>\n",
              "      <th>279</th>\n",
              "      <td>X3</td>\n",
              "      <td>20800.0</td>\n",
              "    </tr>\n",
              "    <tr>\n",
              "      <th>284</th>\n",
              "      <td>X3</td>\n",
              "      <td>20800.0</td>\n",
              "    </tr>\n",
              "    <tr>\n",
              "      <th>268</th>\n",
              "      <td>X3</td>\n",
              "      <td>20000.0</td>\n",
              "    </tr>\n",
              "    <tr>\n",
              "      <th>243</th>\n",
              "      <td>X3</td>\n",
              "      <td>19800.0</td>\n",
              "    </tr>\n",
              "    <tr>\n",
              "      <th>197</th>\n",
              "      <td>X3</td>\n",
              "      <td>19600.0</td>\n",
              "    </tr>\n",
              "    <tr>\n",
              "      <th>256</th>\n",
              "      <td>X3</td>\n",
              "      <td>19500.0</td>\n",
              "    </tr>\n",
              "    <tr>\n",
              "      <th>300</th>\n",
              "      <td>X3</td>\n",
              "      <td>19500.0</td>\n",
              "    </tr>\n",
              "    <tr>\n",
              "      <th>162</th>\n",
              "      <td>X3</td>\n",
              "      <td>19300.0</td>\n",
              "    </tr>\n",
              "    <tr>\n",
              "      <th>208</th>\n",
              "      <td>X3</td>\n",
              "      <td>19300.0</td>\n",
              "    </tr>\n",
              "    <tr>\n",
              "      <th>272</th>\n",
              "      <td>X3</td>\n",
              "      <td>18400.0</td>\n",
              "    </tr>\n",
              "    <tr>\n",
              "      <th>234</th>\n",
              "      <td>X3</td>\n",
              "      <td>17300.0</td>\n",
              "    </tr>\n",
              "    <tr>\n",
              "      <th>191</th>\n",
              "      <td>X3</td>\n",
              "      <td>17000.0</td>\n",
              "    </tr>\n",
              "    <tr>\n",
              "      <th>193</th>\n",
              "      <td>X3</td>\n",
              "      <td>17000.0</td>\n",
              "    </tr>\n",
              "    <tr>\n",
              "      <th>270</th>\n",
              "      <td>X3</td>\n",
              "      <td>17000.0</td>\n",
              "    </tr>\n",
              "    <tr>\n",
              "      <th>226</th>\n",
              "      <td>X3</td>\n",
              "      <td>16800.0</td>\n",
              "    </tr>\n",
              "    <tr>\n",
              "      <th>229</th>\n",
              "      <td>X3</td>\n",
              "      <td>16200.0</td>\n",
              "    </tr>\n",
              "    <tr>\n",
              "      <th>172</th>\n",
              "      <td>X3</td>\n",
              "      <td>16100.0</td>\n",
              "    </tr>\n",
              "    <tr>\n",
              "      <th>209</th>\n",
              "      <td>X3</td>\n",
              "      <td>15800.0</td>\n",
              "    </tr>\n",
              "    <tr>\n",
              "      <th>271</th>\n",
              "      <td>X3</td>\n",
              "      <td>15400.0</td>\n",
              "    </tr>\n",
              "    <tr>\n",
              "      <th>221</th>\n",
              "      <td>X3</td>\n",
              "      <td>14500.0</td>\n",
              "    </tr>\n",
              "    <tr>\n",
              "      <th>240</th>\n",
              "      <td>X3</td>\n",
              "      <td>14500.0</td>\n",
              "    </tr>\n",
              "    <tr>\n",
              "      <th>287</th>\n",
              "      <td>X3</td>\n",
              "      <td>6600.0</td>\n",
              "    </tr>\n",
              "    <tr>\n",
              "      <th>213</th>\n",
              "      <td>X1</td>\n",
              "      <td>14300.0</td>\n",
              "    </tr>\n",
              "    <tr>\n",
              "      <th>109</th>\n",
              "      <td>750</td>\n",
              "      <td>37200.0</td>\n",
              "    </tr>\n",
              "    <tr>\n",
              "      <th>115</th>\n",
              "      <td>530</td>\n",
              "      <td>21400.0</td>\n",
              "    </tr>\n",
              "    <tr>\n",
              "      <th>47</th>\n",
              "      <td>525</td>\n",
              "      <td>16900.0</td>\n",
              "    </tr>\n",
              "    <tr>\n",
              "      <th>15</th>\n",
              "      <td>320</td>\n",
              "      <td>16400.0</td>\n",
              "    </tr>\n",
              "    <tr>\n",
              "      <th>44</th>\n",
              "      <td>320</td>\n",
              "      <td>16400.0</td>\n",
              "    </tr>\n",
              "    <tr>\n",
              "      <th>28</th>\n",
              "      <td>320</td>\n",
              "      <td>15500.0</td>\n",
              "    </tr>\n",
              "  </tbody>\n",
              "</table>\n",
              "</div>"
            ],
            "text/plain": [
              "    modelo   precio\n",
              "269     X6  22000.0\n",
              "274     X6  22000.0\n",
              "247     X5  37800.0\n",
              "285     X5  37400.0\n",
              "253     X5  34500.0\n",
              "262     X5  34500.0\n",
              "288     X5  34200.0\n",
              "291     X5  13700.0\n",
              "237     X3  27300.0\n",
              "283     X3  26800.0\n",
              "205     X3  26700.0\n",
              "279     X3  20800.0\n",
              "284     X3  20800.0\n",
              "268     X3  20000.0\n",
              "243     X3  19800.0\n",
              "197     X3  19600.0\n",
              "256     X3  19500.0\n",
              "300     X3  19500.0\n",
              "162     X3  19300.0\n",
              "208     X3  19300.0\n",
              "272     X3  18400.0\n",
              "234     X3  17300.0\n",
              "191     X3  17000.0\n",
              "193     X3  17000.0\n",
              "270     X3  17000.0\n",
              "226     X3  16800.0\n",
              "229     X3  16200.0\n",
              "172     X3  16100.0\n",
              "209     X3  15800.0\n",
              "271     X3  15400.0\n",
              "221     X3  14500.0\n",
              "240     X3  14500.0\n",
              "287     X3   6600.0\n",
              "213     X1  14300.0\n",
              "109    750  37200.0\n",
              "115    530  21400.0\n",
              "47     525  16900.0\n",
              "15     320  16400.0\n",
              "44     320  16400.0\n",
              "28     320  15500.0"
            ]
          },
          "execution_count": 280,
          "metadata": {},
          "output_type": "execute_result"
        }
      ],
      "source": [
        "df_asientos_true_2 = df_asientos_true[df_asientos_true.duplicated()]\n",
        "df_asientos_true_2.sort_values(ascending=False, by=[\"modelo\",\"precio\"])\n"
      ]
    },
    {
      "cell_type": "code",
      "execution_count": 281,
      "metadata": {
        "colab": {
          "base_uri": "https://localhost:8080/",
          "height": 423
        },
        "id": "fF2VIGIV_38a",
        "outputId": "b87bab45-0a86-4144-fee4-ad06a5762097"
      },
      "outputs": [
        {
          "data": {
            "text/html": [
              "<div>\n",
              "<style scoped>\n",
              "    .dataframe tbody tr th:only-of-type {\n",
              "        vertical-align: middle;\n",
              "    }\n",
              "\n",
              "    .dataframe tbody tr th {\n",
              "        vertical-align: top;\n",
              "    }\n",
              "\n",
              "    .dataframe thead th {\n",
              "        text-align: right;\n",
              "    }\n",
              "</style>\n",
              "<table border=\"1\" class=\"dataframe\">\n",
              "  <thead>\n",
              "    <tr style=\"text-align: right;\">\n",
              "      <th></th>\n",
              "      <th>modelo</th>\n",
              "      <th>precio</th>\n",
              "    </tr>\n",
              "  </thead>\n",
              "  <tbody>\n",
              "    <tr>\n",
              "      <th>1136</th>\n",
              "      <td>X3</td>\n",
              "      <td>22000.0</td>\n",
              "    </tr>\n",
              "    <tr>\n",
              "      <th>1051</th>\n",
              "      <td>X3</td>\n",
              "      <td>18200.0</td>\n",
              "    </tr>\n",
              "    <tr>\n",
              "      <th>1100</th>\n",
              "      <td>X3</td>\n",
              "      <td>16500.0</td>\n",
              "    </tr>\n",
              "    <tr>\n",
              "      <th>1140</th>\n",
              "      <td>X3</td>\n",
              "      <td>15500.0</td>\n",
              "    </tr>\n",
              "    <tr>\n",
              "      <th>1064</th>\n",
              "      <td>X3</td>\n",
              "      <td>15200.0</td>\n",
              "    </tr>\n",
              "    <tr>\n",
              "      <th>...</th>\n",
              "      <td>...</td>\n",
              "      <td>...</td>\n",
              "    </tr>\n",
              "    <tr>\n",
              "      <th>604</th>\n",
              "      <td>116</td>\n",
              "      <td>8200.0</td>\n",
              "    </tr>\n",
              "    <tr>\n",
              "      <th>987</th>\n",
              "      <td>116</td>\n",
              "      <td>8000.0</td>\n",
              "    </tr>\n",
              "    <tr>\n",
              "      <th>995</th>\n",
              "      <td>116</td>\n",
              "      <td>8000.0</td>\n",
              "    </tr>\n",
              "    <tr>\n",
              "      <th>649</th>\n",
              "      <td>116</td>\n",
              "      <td>7900.0</td>\n",
              "    </tr>\n",
              "    <tr>\n",
              "      <th>980</th>\n",
              "      <td>116</td>\n",
              "      <td>3600.0</td>\n",
              "    </tr>\n",
              "  </tbody>\n",
              "</table>\n",
              "<p>401 rows × 2 columns</p>\n",
              "</div>"
            ],
            "text/plain": [
              "     modelo   precio\n",
              "1136     X3  22000.0\n",
              "1051     X3  18200.0\n",
              "1100     X3  16500.0\n",
              "1140     X3  15500.0\n",
              "1064     X3  15200.0\n",
              "...     ...      ...\n",
              "604     116   8200.0\n",
              "987     116   8000.0\n",
              "995     116   8000.0\n",
              "649     116   7900.0\n",
              "980     116   3600.0\n",
              "\n",
              "[401 rows x 2 columns]"
            ]
          },
          "execution_count": 281,
          "metadata": {},
          "output_type": "execute_result"
        }
      ],
      "source": [
        "df_asientos_false_2 = df_asientos_false[df_asientos_false.duplicated()]\n",
        "df_asientos_false_2.sort_values(ascending=False, by=[\"modelo\",\"precio\"])"
      ]
    },
    {
      "cell_type": "code",
      "execution_count": 282,
      "metadata": {
        "colab": {
          "base_uri": "https://localhost:8080/",
          "height": 833
        },
        "id": "X-efoQGZwPQr",
        "outputId": "4683f784-5ab9-4de3-9400-880c657f9777"
      },
      "outputs": [
        {
          "data": {
            "text/html": [
              "<div>\n",
              "<style scoped>\n",
              "    .dataframe tbody tr th:only-of-type {\n",
              "        vertical-align: middle;\n",
              "    }\n",
              "\n",
              "    .dataframe tbody tr th {\n",
              "        vertical-align: top;\n",
              "    }\n",
              "\n",
              "    .dataframe thead th {\n",
              "        text-align: right;\n",
              "    }\n",
              "</style>\n",
              "<table border=\"1\" class=\"dataframe\">\n",
              "  <thead>\n",
              "    <tr style=\"text-align: right;\">\n",
              "      <th></th>\n",
              "      <th>modelo</th>\n",
              "      <th>precio</th>\n",
              "    </tr>\n",
              "  </thead>\n",
              "  <tbody>\n",
              "    <tr>\n",
              "      <th>287</th>\n",
              "      <td>X3</td>\n",
              "      <td>6600.0</td>\n",
              "    </tr>\n",
              "    <tr>\n",
              "      <th>221</th>\n",
              "      <td>X3</td>\n",
              "      <td>14500.0</td>\n",
              "    </tr>\n",
              "    <tr>\n",
              "      <th>240</th>\n",
              "      <td>X3</td>\n",
              "      <td>14500.0</td>\n",
              "    </tr>\n",
              "    <tr>\n",
              "      <th>271</th>\n",
              "      <td>X3</td>\n",
              "      <td>15400.0</td>\n",
              "    </tr>\n",
              "    <tr>\n",
              "      <th>209</th>\n",
              "      <td>X3</td>\n",
              "      <td>15800.0</td>\n",
              "    </tr>\n",
              "    <tr>\n",
              "      <th>172</th>\n",
              "      <td>X3</td>\n",
              "      <td>16100.0</td>\n",
              "    </tr>\n",
              "    <tr>\n",
              "      <th>229</th>\n",
              "      <td>X3</td>\n",
              "      <td>16200.0</td>\n",
              "    </tr>\n",
              "    <tr>\n",
              "      <th>226</th>\n",
              "      <td>X3</td>\n",
              "      <td>16800.0</td>\n",
              "    </tr>\n",
              "    <tr>\n",
              "      <th>191</th>\n",
              "      <td>X3</td>\n",
              "      <td>17000.0</td>\n",
              "    </tr>\n",
              "    <tr>\n",
              "      <th>193</th>\n",
              "      <td>X3</td>\n",
              "      <td>17000.0</td>\n",
              "    </tr>\n",
              "    <tr>\n",
              "      <th>270</th>\n",
              "      <td>X3</td>\n",
              "      <td>17000.0</td>\n",
              "    </tr>\n",
              "    <tr>\n",
              "      <th>234</th>\n",
              "      <td>X3</td>\n",
              "      <td>17300.0</td>\n",
              "    </tr>\n",
              "    <tr>\n",
              "      <th>272</th>\n",
              "      <td>X3</td>\n",
              "      <td>18400.0</td>\n",
              "    </tr>\n",
              "    <tr>\n",
              "      <th>162</th>\n",
              "      <td>X3</td>\n",
              "      <td>19300.0</td>\n",
              "    </tr>\n",
              "    <tr>\n",
              "      <th>208</th>\n",
              "      <td>X3</td>\n",
              "      <td>19300.0</td>\n",
              "    </tr>\n",
              "    <tr>\n",
              "      <th>300</th>\n",
              "      <td>X3</td>\n",
              "      <td>19500.0</td>\n",
              "    </tr>\n",
              "    <tr>\n",
              "      <th>256</th>\n",
              "      <td>X3</td>\n",
              "      <td>19500.0</td>\n",
              "    </tr>\n",
              "    <tr>\n",
              "      <th>197</th>\n",
              "      <td>X3</td>\n",
              "      <td>19600.0</td>\n",
              "    </tr>\n",
              "    <tr>\n",
              "      <th>243</th>\n",
              "      <td>X3</td>\n",
              "      <td>19800.0</td>\n",
              "    </tr>\n",
              "    <tr>\n",
              "      <th>268</th>\n",
              "      <td>X3</td>\n",
              "      <td>20000.0</td>\n",
              "    </tr>\n",
              "    <tr>\n",
              "      <th>279</th>\n",
              "      <td>X3</td>\n",
              "      <td>20800.0</td>\n",
              "    </tr>\n",
              "    <tr>\n",
              "      <th>284</th>\n",
              "      <td>X3</td>\n",
              "      <td>20800.0</td>\n",
              "    </tr>\n",
              "    <tr>\n",
              "      <th>205</th>\n",
              "      <td>X3</td>\n",
              "      <td>26700.0</td>\n",
              "    </tr>\n",
              "    <tr>\n",
              "      <th>283</th>\n",
              "      <td>X3</td>\n",
              "      <td>26800.0</td>\n",
              "    </tr>\n",
              "    <tr>\n",
              "      <th>237</th>\n",
              "      <td>X3</td>\n",
              "      <td>27300.0</td>\n",
              "    </tr>\n",
              "  </tbody>\n",
              "</table>\n",
              "</div>"
            ],
            "text/plain": [
              "    modelo   precio\n",
              "287     X3   6600.0\n",
              "221     X3  14500.0\n",
              "240     X3  14500.0\n",
              "271     X3  15400.0\n",
              "209     X3  15800.0\n",
              "172     X3  16100.0\n",
              "229     X3  16200.0\n",
              "226     X3  16800.0\n",
              "191     X3  17000.0\n",
              "193     X3  17000.0\n",
              "270     X3  17000.0\n",
              "234     X3  17300.0\n",
              "272     X3  18400.0\n",
              "162     X3  19300.0\n",
              "208     X3  19300.0\n",
              "300     X3  19500.0\n",
              "256     X3  19500.0\n",
              "197     X3  19600.0\n",
              "243     X3  19800.0\n",
              "268     X3  20000.0\n",
              "279     X3  20800.0\n",
              "284     X3  20800.0\n",
              "205     X3  26700.0\n",
              "283     X3  26800.0\n",
              "237     X3  27300.0"
            ]
          },
          "execution_count": 282,
          "metadata": {},
          "output_type": "execute_result"
        }
      ],
      "source": [
        "df_asientos_true_2[df_asientos_true_2[\"modelo\"]==\"X3\"].sort_values(by=\"precio\")\n"
      ]
    },
    {
      "cell_type": "code",
      "execution_count": 283,
      "metadata": {
        "colab": {
          "base_uri": "https://localhost:8080/",
          "height": 300
        },
        "id": "7NwuBFdJwdhx",
        "outputId": "410a5380-e510-4033-c0cf-ca244731dcf7"
      },
      "outputs": [
        {
          "data": {
            "text/html": [
              "<div>\n",
              "<style scoped>\n",
              "    .dataframe tbody tr th:only-of-type {\n",
              "        vertical-align: middle;\n",
              "    }\n",
              "\n",
              "    .dataframe tbody tr th {\n",
              "        vertical-align: top;\n",
              "    }\n",
              "\n",
              "    .dataframe thead th {\n",
              "        text-align: right;\n",
              "    }\n",
              "</style>\n",
              "<table border=\"1\" class=\"dataframe\">\n",
              "  <thead>\n",
              "    <tr style=\"text-align: right;\">\n",
              "      <th></th>\n",
              "      <th>modelo</th>\n",
              "      <th>precio</th>\n",
              "    </tr>\n",
              "  </thead>\n",
              "  <tbody>\n",
              "    <tr>\n",
              "      <th>1081</th>\n",
              "      <td>X3</td>\n",
              "      <td>14200.0</td>\n",
              "    </tr>\n",
              "    <tr>\n",
              "      <th>1067</th>\n",
              "      <td>X3</td>\n",
              "      <td>14300.0</td>\n",
              "    </tr>\n",
              "    <tr>\n",
              "      <th>1083</th>\n",
              "      <td>X3</td>\n",
              "      <td>14300.0</td>\n",
              "    </tr>\n",
              "    <tr>\n",
              "      <th>1064</th>\n",
              "      <td>X3</td>\n",
              "      <td>15200.0</td>\n",
              "    </tr>\n",
              "    <tr>\n",
              "      <th>1140</th>\n",
              "      <td>X3</td>\n",
              "      <td>15500.0</td>\n",
              "    </tr>\n",
              "    <tr>\n",
              "      <th>1100</th>\n",
              "      <td>X3</td>\n",
              "      <td>16500.0</td>\n",
              "    </tr>\n",
              "    <tr>\n",
              "      <th>1051</th>\n",
              "      <td>X3</td>\n",
              "      <td>18200.0</td>\n",
              "    </tr>\n",
              "    <tr>\n",
              "      <th>1136</th>\n",
              "      <td>X3</td>\n",
              "      <td>22000.0</td>\n",
              "    </tr>\n",
              "  </tbody>\n",
              "</table>\n",
              "</div>"
            ],
            "text/plain": [
              "     modelo   precio\n",
              "1081     X3  14200.0\n",
              "1067     X3  14300.0\n",
              "1083     X3  14300.0\n",
              "1064     X3  15200.0\n",
              "1140     X3  15500.0\n",
              "1100     X3  16500.0\n",
              "1051     X3  18200.0\n",
              "1136     X3  22000.0"
            ]
          },
          "execution_count": 283,
          "metadata": {},
          "output_type": "execute_result"
        }
      ],
      "source": [
        "df_asientos_false_2[df_asientos_false_2[\"modelo\"]==\"X3\"].sort_values(by=\"precio\")"
      ]
    },
    {
      "cell_type": "markdown",
      "metadata": {
        "id": "TvrY_O68tCXF"
      },
      "source": [
        "Viendo los valores para un mismo modelo en los que sí que tienen asientos reclinables vs. el mismo modelo, hay variaciones en el precio"
      ]
    },
    {
      "cell_type": "code",
      "execution_count": 284,
      "metadata": {
        "colab": {
          "base_uri": "https://localhost:8080/",
          "height": 287
        },
        "id": "wwifVd6Hs65q",
        "outputId": "64c8ce69-3f4a-4e57-b0f8-060dd4529a81"
      },
      "outputs": [],
      "source": [
        "df_bmw.drop(columns=[\"asientos_traseros_plegables\"], inplace=True)"
      ]
    },
    {
      "cell_type": "code",
      "execution_count": 285,
      "metadata": {},
      "outputs": [
        {
          "data": {
            "text/html": [
              "<div>\n",
              "<style scoped>\n",
              "    .dataframe tbody tr th:only-of-type {\n",
              "        vertical-align: middle;\n",
              "    }\n",
              "\n",
              "    .dataframe tbody tr th {\n",
              "        vertical-align: top;\n",
              "    }\n",
              "\n",
              "    .dataframe thead th {\n",
              "        text-align: right;\n",
              "    }\n",
              "</style>\n",
              "<table border=\"1\" class=\"dataframe\">\n",
              "  <thead>\n",
              "    <tr style=\"text-align: right;\">\n",
              "      <th></th>\n",
              "      <th>marca</th>\n",
              "      <th>modelo</th>\n",
              "      <th>km</th>\n",
              "      <th>potencia</th>\n",
              "      <th>fecha_registro</th>\n",
              "      <th>tipo_gasolina</th>\n",
              "      <th>color</th>\n",
              "      <th>tipo_coche</th>\n",
              "      <th>volante_regulable</th>\n",
              "      <th>aire_acondicionado</th>\n",
              "      <th>camara_trasera</th>\n",
              "      <th>elevalunas_electrico</th>\n",
              "      <th>bluetooth</th>\n",
              "      <th>gps</th>\n",
              "      <th>alerta_lim_velocidad</th>\n",
              "      <th>precio</th>\n",
              "      <th>fecha_venta</th>\n",
              "    </tr>\n",
              "  </thead>\n",
              "  <tbody>\n",
              "    <tr>\n",
              "      <th>0</th>\n",
              "      <td>NaN</td>\n",
              "      <td>118</td>\n",
              "      <td>140411.0</td>\n",
              "      <td>100.0</td>\n",
              "      <td>2012-02-01</td>\n",
              "      <td>diesel</td>\n",
              "      <td>black</td>\n",
              "      <td>NaN</td>\n",
              "      <td>True</td>\n",
              "      <td>True</td>\n",
              "      <td>False</td>\n",
              "      <td>True</td>\n",
              "      <td>NaN</td>\n",
              "      <td>True</td>\n",
              "      <td>NaN</td>\n",
              "      <td>11300.0</td>\n",
              "      <td>2018-01-01</td>\n",
              "    </tr>\n",
              "    <tr>\n",
              "      <th>1</th>\n",
              "      <td>BMW</td>\n",
              "      <td>M4</td>\n",
              "      <td>13929.0</td>\n",
              "      <td>317.0</td>\n",
              "      <td>NaN</td>\n",
              "      <td>petrol</td>\n",
              "      <td>grey</td>\n",
              "      <td>convertible</td>\n",
              "      <td>True</td>\n",
              "      <td>True</td>\n",
              "      <td>False</td>\n",
              "      <td>False</td>\n",
              "      <td>True</td>\n",
              "      <td>True</td>\n",
              "      <td>True</td>\n",
              "      <td>69700.0</td>\n",
              "      <td>2018-02-01</td>\n",
              "    </tr>\n",
              "    <tr>\n",
              "      <th>2</th>\n",
              "      <td>BMW</td>\n",
              "      <td>320</td>\n",
              "      <td>183297.0</td>\n",
              "      <td>120.0</td>\n",
              "      <td>2012-04-01</td>\n",
              "      <td>diesel</td>\n",
              "      <td>white</td>\n",
              "      <td>NaN</td>\n",
              "      <td>False</td>\n",
              "      <td>False</td>\n",
              "      <td>False</td>\n",
              "      <td>True</td>\n",
              "      <td>False</td>\n",
              "      <td>True</td>\n",
              "      <td>False</td>\n",
              "      <td>10200.0</td>\n",
              "      <td>2018-02-01</td>\n",
              "    </tr>\n",
              "    <tr>\n",
              "      <th>3</th>\n",
              "      <td>BMW</td>\n",
              "      <td>420</td>\n",
              "      <td>128035.0</td>\n",
              "      <td>135.0</td>\n",
              "      <td>NaN</td>\n",
              "      <td>diesel</td>\n",
              "      <td>red</td>\n",
              "      <td>convertible</td>\n",
              "      <td>True</td>\n",
              "      <td>True</td>\n",
              "      <td>False</td>\n",
              "      <td>True</td>\n",
              "      <td>True</td>\n",
              "      <td>True</td>\n",
              "      <td>NaN</td>\n",
              "      <td>25100.0</td>\n",
              "      <td>2018-02-01</td>\n",
              "    </tr>\n",
              "    <tr>\n",
              "      <th>4</th>\n",
              "      <td>BMW</td>\n",
              "      <td>425</td>\n",
              "      <td>97097.0</td>\n",
              "      <td>160.0</td>\n",
              "      <td>NaN</td>\n",
              "      <td>diesel</td>\n",
              "      <td>silver</td>\n",
              "      <td>NaN</td>\n",
              "      <td>True</td>\n",
              "      <td>True</td>\n",
              "      <td>False</td>\n",
              "      <td>False</td>\n",
              "      <td>True</td>\n",
              "      <td>True</td>\n",
              "      <td>True</td>\n",
              "      <td>33400.0</td>\n",
              "      <td>2018-04-01</td>\n",
              "    </tr>\n",
              "    <tr>\n",
              "      <th>...</th>\n",
              "      <td>...</td>\n",
              "      <td>...</td>\n",
              "      <td>...</td>\n",
              "      <td>...</td>\n",
              "      <td>...</td>\n",
              "      <td>...</td>\n",
              "      <td>...</td>\n",
              "      <td>...</td>\n",
              "      <td>...</td>\n",
              "      <td>...</td>\n",
              "      <td>...</td>\n",
              "      <td>...</td>\n",
              "      <td>...</td>\n",
              "      <td>...</td>\n",
              "      <td>...</td>\n",
              "      <td>...</td>\n",
              "      <td>...</td>\n",
              "    </tr>\n",
              "    <tr>\n",
              "      <th>4838</th>\n",
              "      <td>BMW</td>\n",
              "      <td>218 Gran Tourer</td>\n",
              "      <td>39743.0</td>\n",
              "      <td>110.0</td>\n",
              "      <td>NaN</td>\n",
              "      <td>diesel</td>\n",
              "      <td>black</td>\n",
              "      <td>NaN</td>\n",
              "      <td>False</td>\n",
              "      <td>True</td>\n",
              "      <td>False</td>\n",
              "      <td>False</td>\n",
              "      <td>False</td>\n",
              "      <td>True</td>\n",
              "      <td>False</td>\n",
              "      <td>14600.0</td>\n",
              "      <td>2018-08-01</td>\n",
              "    </tr>\n",
              "    <tr>\n",
              "      <th>4839</th>\n",
              "      <td>BMW</td>\n",
              "      <td>218 Active Tourer</td>\n",
              "      <td>49832.0</td>\n",
              "      <td>100.0</td>\n",
              "      <td>2015-06-01</td>\n",
              "      <td>diesel</td>\n",
              "      <td>grey</td>\n",
              "      <td>NaN</td>\n",
              "      <td>False</td>\n",
              "      <td>True</td>\n",
              "      <td>False</td>\n",
              "      <td>False</td>\n",
              "      <td>False</td>\n",
              "      <td>True</td>\n",
              "      <td>True</td>\n",
              "      <td>17500.0</td>\n",
              "      <td>2018-08-01</td>\n",
              "    </tr>\n",
              "    <tr>\n",
              "      <th>4840</th>\n",
              "      <td>BMW</td>\n",
              "      <td>218 Gran Tourer</td>\n",
              "      <td>19633.0</td>\n",
              "      <td>110.0</td>\n",
              "      <td>2015-10-01</td>\n",
              "      <td>diesel</td>\n",
              "      <td>grey</td>\n",
              "      <td>van</td>\n",
              "      <td>False</td>\n",
              "      <td>True</td>\n",
              "      <td>False</td>\n",
              "      <td>False</td>\n",
              "      <td>False</td>\n",
              "      <td>True</td>\n",
              "      <td>True</td>\n",
              "      <td>17000.0</td>\n",
              "      <td>2018-09-01</td>\n",
              "    </tr>\n",
              "    <tr>\n",
              "      <th>4841</th>\n",
              "      <td>BMW</td>\n",
              "      <td>218 Active Tourer</td>\n",
              "      <td>27920.0</td>\n",
              "      <td>110.0</td>\n",
              "      <td>2016-04-01</td>\n",
              "      <td>diesel</td>\n",
              "      <td>brown</td>\n",
              "      <td>van</td>\n",
              "      <td>True</td>\n",
              "      <td>True</td>\n",
              "      <td>False</td>\n",
              "      <td>False</td>\n",
              "      <td>False</td>\n",
              "      <td>True</td>\n",
              "      <td>True</td>\n",
              "      <td>22700.0</td>\n",
              "      <td>2018-09-01</td>\n",
              "    </tr>\n",
              "    <tr>\n",
              "      <th>4842</th>\n",
              "      <td>BMW</td>\n",
              "      <td>525</td>\n",
              "      <td>195840.0</td>\n",
              "      <td>160.0</td>\n",
              "      <td>NaN</td>\n",
              "      <td>diesel</td>\n",
              "      <td>grey</td>\n",
              "      <td>NaN</td>\n",
              "      <td>True</td>\n",
              "      <td>NaN</td>\n",
              "      <td>False</td>\n",
              "      <td>True</td>\n",
              "      <td>False</td>\n",
              "      <td>True</td>\n",
              "      <td>True</td>\n",
              "      <td>15500.0</td>\n",
              "      <td>2018-09-01</td>\n",
              "    </tr>\n",
              "  </tbody>\n",
              "</table>\n",
              "<p>4843 rows × 17 columns</p>\n",
              "</div>"
            ],
            "text/plain": [
              "     marca             modelo        km  potencia fecha_registro  \\\n",
              "0      NaN                118  140411.0     100.0     2012-02-01   \n",
              "1      BMW                 M4   13929.0     317.0            NaN   \n",
              "2      BMW                320  183297.0     120.0     2012-04-01   \n",
              "3      BMW                420  128035.0     135.0            NaN   \n",
              "4      BMW                425   97097.0     160.0            NaN   \n",
              "...    ...                ...       ...       ...            ...   \n",
              "4838   BMW    218 Gran Tourer   39743.0     110.0            NaN   \n",
              "4839   BMW  218 Active Tourer   49832.0     100.0     2015-06-01   \n",
              "4840   BMW    218 Gran Tourer   19633.0     110.0     2015-10-01   \n",
              "4841   BMW  218 Active Tourer   27920.0     110.0     2016-04-01   \n",
              "4842   BMW                525  195840.0     160.0            NaN   \n",
              "\n",
              "     tipo_gasolina   color   tipo_coche volante_regulable aire_acondicionado  \\\n",
              "0           diesel   black          NaN              True               True   \n",
              "1           petrol    grey  convertible              True               True   \n",
              "2           diesel   white          NaN             False              False   \n",
              "3           diesel     red  convertible              True               True   \n",
              "4           diesel  silver          NaN              True               True   \n",
              "...            ...     ...          ...               ...                ...   \n",
              "4838        diesel   black          NaN             False               True   \n",
              "4839        diesel    grey          NaN             False               True   \n",
              "4840        diesel    grey          van             False               True   \n",
              "4841        diesel   brown          van              True               True   \n",
              "4842        diesel    grey          NaN              True                NaN   \n",
              "\n",
              "     camara_trasera elevalunas_electrico bluetooth   gps alerta_lim_velocidad  \\\n",
              "0             False                 True       NaN  True                  NaN   \n",
              "1             False                False      True  True                 True   \n",
              "2             False                 True     False  True                False   \n",
              "3             False                 True      True  True                  NaN   \n",
              "4             False                False      True  True                 True   \n",
              "...             ...                  ...       ...   ...                  ...   \n",
              "4838          False                False     False  True                False   \n",
              "4839          False                False     False  True                 True   \n",
              "4840          False                False     False  True                 True   \n",
              "4841          False                False     False  True                 True   \n",
              "4842          False                 True     False  True                 True   \n",
              "\n",
              "       precio fecha_venta  \n",
              "0     11300.0  2018-01-01  \n",
              "1     69700.0  2018-02-01  \n",
              "2     10200.0  2018-02-01  \n",
              "3     25100.0  2018-02-01  \n",
              "4     33400.0  2018-04-01  \n",
              "...       ...         ...  \n",
              "4838  14600.0  2018-08-01  \n",
              "4839  17500.0  2018-08-01  \n",
              "4840  17000.0  2018-09-01  \n",
              "4841  22700.0  2018-09-01  \n",
              "4842  15500.0  2018-09-01  \n",
              "\n",
              "[4843 rows x 17 columns]"
            ]
          },
          "execution_count": 285,
          "metadata": {},
          "output_type": "execute_result"
        }
      ],
      "source": [
        "df_bmw"
      ]
    },
    {
      "cell_type": "code",
      "execution_count": 286,
      "metadata": {},
      "outputs": [
        {
          "data": {
            "text/plain": [
              "marca\n",
              "False    3873\n",
              "True      970\n",
              "Name: count, dtype: int64"
            ]
          },
          "execution_count": 286,
          "metadata": {},
          "output_type": "execute_result"
        }
      ],
      "source": [
        "df_bmw[\"marca\"].isna().value_counts()"
      ]
    },
    {
      "cell_type": "code",
      "execution_count": 287,
      "metadata": {},
      "outputs": [
        {
          "data": {
            "text/html": [
              "<div>\n",
              "<style scoped>\n",
              "    .dataframe tbody tr th:only-of-type {\n",
              "        vertical-align: middle;\n",
              "    }\n",
              "\n",
              "    .dataframe tbody tr th {\n",
              "        vertical-align: top;\n",
              "    }\n",
              "\n",
              "    .dataframe thead th {\n",
              "        text-align: right;\n",
              "    }\n",
              "</style>\n",
              "<table border=\"1\" class=\"dataframe\">\n",
              "  <thead>\n",
              "    <tr style=\"text-align: right;\">\n",
              "      <th></th>\n",
              "      <th>% Nulos</th>\n",
              "      <th>Valores Únicos</th>\n",
              "    </tr>\n",
              "  </thead>\n",
              "  <tbody>\n",
              "    <tr>\n",
              "      <th>marca</th>\n",
              "      <td>20.028908</td>\n",
              "      <td>1</td>\n",
              "    </tr>\n",
              "    <tr>\n",
              "      <th>modelo</th>\n",
              "      <td>0.061945</td>\n",
              "      <td>76</td>\n",
              "    </tr>\n",
              "    <tr>\n",
              "      <th>km</th>\n",
              "      <td>0.041297</td>\n",
              "      <td>4784</td>\n",
              "    </tr>\n",
              "    <tr>\n",
              "      <th>potencia</th>\n",
              "      <td>0.020648</td>\n",
              "      <td>61</td>\n",
              "    </tr>\n",
              "    <tr>\n",
              "      <th>fecha_registro</th>\n",
              "      <td>50.030973</td>\n",
              "      <td>180</td>\n",
              "    </tr>\n",
              "    <tr>\n",
              "      <th>tipo_gasolina</th>\n",
              "      <td>0.103242</td>\n",
              "      <td>5</td>\n",
              "    </tr>\n",
              "    <tr>\n",
              "      <th>color</th>\n",
              "      <td>9.188520</td>\n",
              "      <td>10</td>\n",
              "    </tr>\n",
              "    <tr>\n",
              "      <th>tipo_coche</th>\n",
              "      <td>30.146603</td>\n",
              "      <td>8</td>\n",
              "    </tr>\n",
              "    <tr>\n",
              "      <th>volante_regulable</th>\n",
              "      <td>0.082593</td>\n",
              "      <td>2</td>\n",
              "    </tr>\n",
              "    <tr>\n",
              "      <th>aire_acondicionado</th>\n",
              "      <td>10.035102</td>\n",
              "      <td>2</td>\n",
              "    </tr>\n",
              "    <tr>\n",
              "      <th>camara_trasera</th>\n",
              "      <td>0.041297</td>\n",
              "      <td>2</td>\n",
              "    </tr>\n",
              "    <tr>\n",
              "      <th>elevalunas_electrico</th>\n",
              "      <td>0.041297</td>\n",
              "      <td>2</td>\n",
              "    </tr>\n",
              "    <tr>\n",
              "      <th>bluetooth</th>\n",
              "      <td>15.032005</td>\n",
              "      <td>2</td>\n",
              "    </tr>\n",
              "    <tr>\n",
              "      <th>gps</th>\n",
              "      <td>0.000000</td>\n",
              "      <td>2</td>\n",
              "    </tr>\n",
              "    <tr>\n",
              "      <th>alerta_lim_velocidad</th>\n",
              "      <td>15.032005</td>\n",
              "      <td>2</td>\n",
              "    </tr>\n",
              "    <tr>\n",
              "      <th>precio</th>\n",
              "      <td>0.123890</td>\n",
              "      <td>437</td>\n",
              "    </tr>\n",
              "    <tr>\n",
              "      <th>fecha_venta</th>\n",
              "      <td>0.020648</td>\n",
              "      <td>13</td>\n",
              "    </tr>\n",
              "  </tbody>\n",
              "</table>\n",
              "</div>"
            ],
            "text/plain": [
              "                        % Nulos  Valores Únicos\n",
              "marca                 20.028908               1\n",
              "modelo                 0.061945              76\n",
              "km                     0.041297            4784\n",
              "potencia               0.020648              61\n",
              "fecha_registro        50.030973             180\n",
              "tipo_gasolina          0.103242               5\n",
              "color                  9.188520              10\n",
              "tipo_coche            30.146603               8\n",
              "volante_regulable      0.082593               2\n",
              "aire_acondicionado    10.035102               2\n",
              "camara_trasera         0.041297               2\n",
              "elevalunas_electrico   0.041297               2\n",
              "bluetooth             15.032005               2\n",
              "gps                    0.000000               2\n",
              "alerta_lim_velocidad  15.032005               2\n",
              "precio                 0.123890             437\n",
              "fecha_venta            0.020648              13"
            ]
          },
          "execution_count": 287,
          "metadata": {},
          "output_type": "execute_result"
        }
      ],
      "source": [
        "# Revisar porcentaje de valores nulos en cada columna\n",
        "missing_values = df_bmw.isnull().sum() / len(df_bmw) * 100\n",
        "\n",
        "# Revisar valores únicos por columna ( aqui ya no tengo duplicados los estoy ignorando)\n",
        "unique_values = df_bmw.nunique()\n",
        "\n",
        "# Crear un DataFrame para visualizar mejor\n",
        "columns_analysis = pd.DataFrame({\"% Nulos\": missing_values, \"Valores Únicos\": unique_values})\n",
        "columns_analysis"
      ]
    },
    {
      "cell_type": "code",
      "execution_count": 288,
      "metadata": {},
      "outputs": [
        {
          "data": {
            "text/plain": [
              "1       True\n",
              "2       True\n",
              "3       True\n",
              "4       True\n",
              "5       True\n",
              "        ... \n",
              "4838    True\n",
              "4839    True\n",
              "4840    True\n",
              "4841    True\n",
              "4842    True\n",
              "Name: marca, Length: 3873, dtype: bool"
            ]
          },
          "execution_count": 288,
          "metadata": {},
          "output_type": "execute_result"
        }
      ],
      "source": [
        "df_brand_notna = df_bmw[df_bmw[\"marca\"].notna()]\n",
        "is_unique = df_brand_notna[\"marca\"] == \"BMW\"\n",
        "is_unique"
      ]
    },
    {
      "cell_type": "code",
      "execution_count": 289,
      "metadata": {},
      "outputs": [
        {
          "data": {
            "text/plain": [
              "np.True_"
            ]
          },
          "execution_count": 289,
          "metadata": {},
          "output_type": "execute_result"
        }
      ],
      "source": [
        "#  Esto compara cada valor con el primero y verifica si todos coinciden, si es que son todos True sin tener en cuenta los nulos, significa que tienen el mismo valor y que la coluna pasaria a ser irrelevante \n",
        "(df_bmw['marca'].dropna() == df_bmw['marca'].dropna().iloc[0]).all()\n"
      ]
    },
    {
      "cell_type": "code",
      "execution_count": 290,
      "metadata": {},
      "outputs": [],
      "source": [
        "# puedo eliminar la columna marca entonces:\n",
        "df_bmw = df_bmw.drop(columns=\"marca\")"
      ]
    },
    {
      "cell_type": "markdown",
      "metadata": {},
      "source": [
        "### 1. ¿Qué columnas eliminaron inicialmente del dataset y por qué?.\n",
        "\n",
        "- marca tiene solo un valor único, lo que significa que no aporta información útil para el análisis.\n",
        "- asientos_traseros_plegables tiene muchos valores nulos, y su impacto en el precio podría ser mínimo.\n",
        "- hay que eliminar precio ?? es nuestro target\n",
        "\n",
        "no eliminamos \"fecha_registro\" porque aunque tiene más del 50% de valores nulos, es una variable que puede afectar el análisis y la prediccion luego. podriamos rellenarla con la media?"
      ]
    },
    {
      "cell_type": "markdown",
      "metadata": {
        "id": "vfBJkyedOqpU"
      },
      "source": [
        "# 2.Análisis duplicados"
      ]
    },
    {
      "cell_type": "markdown",
      "metadata": {
        "id": "vEiRCsTON58h"
      },
      "source": []
    },
    {
      "cell_type": "code",
      "execution_count": 291,
      "metadata": {},
      "outputs": [
        {
          "data": {
            "text/plain": [
              "np.int64(0)"
            ]
          },
          "execution_count": 291,
          "metadata": {},
          "output_type": "execute_result"
        }
      ],
      "source": [
        "# no encuentro ningun duplicado\n",
        "\n",
        "df_bmw.duplicated().sum()\n",
        "\n",
        "# df_bmw.drop_duplicates( keep=\"first\" ) seria la funcion para eliminarlos, recordamos que keep=first se queda con el primer valor de las filas repetidas\n"
      ]
    },
    {
      "cell_type": "markdown",
      "metadata": {
        "id": "-aV5o_FmP585"
      },
      "source": [
        "# 3. Análisis NA y 0"
      ]
    },
    {
      "cell_type": "code",
      "execution_count": 292,
      "metadata": {},
      "outputs": [
        {
          "name": "stdout",
          "output_type": "stream",
          "text": [
            "numeric_cols ['km', 'potencia']\n",
            "categoric_cols ['modelo', 'fecha_registro', 'tipo_gasolina', 'color', 'tipo_coche', 'volante_regulable', 'aire_acondicionado', 'camara_trasera', 'elevalunas_electrico', 'bluetooth', 'alerta_lim_velocidad', 'fecha_venta']\n",
            "boolean_cols []\n"
          ]
        }
      ],
      "source": [
        "# funcion para dividir variables: \n",
        "target = [\"precio\"]\n",
        "def get_var_list(dataset):\n",
        "    numeric = []\n",
        "    categoric = []\n",
        "    boolean=[]\n",
        "    for data in dataset.columns:\n",
        "        if dataset[data].dtype.kind in ['i', 'f'] and (len(dataset[data].unique()) != 2) and data not in target:\n",
        "            numeric.append(data)\n",
        "            \n",
        "        elif dataset[data].dtype.kind in ['i', 'f'] and (len(dataset[data].unique()) == 2) and data not in target:\n",
        "            boolean.append(data)\n",
        "            \n",
        "\n",
        "        elif dataset[data].dtype.kind == 'O':\n",
        "            categoric.append(data)\n",
        "\n",
        "    return numeric, categoric, boolean\n",
        "\n",
        "numeric_cols, categoric_cols, boolean_cols = get_var_list(df_bmw)\n",
        "\n",
        "\n",
        "print('numeric_cols', numeric_cols)\n",
        "print('categoric_cols', categoric_cols)\n",
        "print('boolean_cols', boolean_cols)"
      ]
    },
    {
      "cell_type": "markdown",
      "metadata": {},
      "source": [
        "### NULOS de variables numericas:"
      ]
    },
    {
      "cell_type": "code",
      "execution_count": 293,
      "metadata": {},
      "outputs": [
        {
          "data": {
            "text/plain": [
              "Index(['km', 'potencia', 'precio'], dtype='object')"
            ]
          },
          "execution_count": 293,
          "metadata": {},
          "output_type": "execute_result"
        }
      ],
      "source": [
        "# otra manera de obtener las variables numericas, pero esta retorna un dataframe y lo guarda en la variable\n",
        "numeric_df = df_bmw.select_dtypes(include=['number'])\n",
        "numeric_df.columns"
      ]
    },
    {
      "cell_type": "code",
      "execution_count": 294,
      "metadata": {},
      "outputs": [
        {
          "data": {
            "text/plain": [
              "km          2\n",
              "potencia    1\n",
              "precio      6\n",
              "dtype: int64"
            ]
          },
          "execution_count": 294,
          "metadata": {},
          "output_type": "execute_result"
        }
      ],
      "source": [
        "\n",
        "# Contar los valores nulos en cada columna numérica\n",
        "missing_values_numeric = numeric_df.isnull().sum()\n",
        "missing_values_numeric\n",
        "\n",
        "# al ver que los nulos de las variables numericas son pocos y que rellenarlos con la mediana generalmente es la mejor estrategia, decidimos rellenarlo con ella, con la media no tiene sentido proque los valores pueden variar mucho"
      ]
    },
    {
      "cell_type": "code",
      "execution_count": 295,
      "metadata": {},
      "outputs": [
        {
          "name": "stdout",
          "output_type": "stream",
          "text": [
            "Valores nulos después del tratamiento:\n",
            " km          0\n",
            "potencia    0\n",
            "precio      6\n",
            "dtype: int64\n"
          ]
        },
        {
          "name": "stderr",
          "output_type": "stream",
          "text": [
            "/var/folders/97/rp671bk13hx384_fw0xl5grm0000gn/T/ipykernel_63682/3541673366.py:3: FutureWarning: A value is trying to be set on a copy of a DataFrame or Series through chained assignment using an inplace method.\n",
            "The behavior will change in pandas 3.0. This inplace method will never work because the intermediate object on which we are setting values always behaves as a copy.\n",
            "\n",
            "For example, when doing 'df[col].method(value, inplace=True)', try using 'df.method({col: value}, inplace=True)' or df[col] = df[col].method(value) instead, to perform the operation inplace on the original object.\n",
            "\n",
            "\n",
            "  df_bmw[col].fillna(df_bmw[col].median(), inplace=True)\n",
            "/var/folders/97/rp671bk13hx384_fw0xl5grm0000gn/T/ipykernel_63682/3541673366.py:3: FutureWarning: A value is trying to be set on a copy of a DataFrame or Series through chained assignment using an inplace method.\n",
            "The behavior will change in pandas 3.0. This inplace method will never work because the intermediate object on which we are setting values always behaves as a copy.\n",
            "\n",
            "For example, when doing 'df[col].method(value, inplace=True)', try using 'df.method({col: value}, inplace=True)' or df[col] = df[col].method(value) instead, to perform the operation inplace on the original object.\n",
            "\n",
            "\n",
            "  df_bmw[col].fillna(df_bmw[col].median(), inplace=True)\n"
          ]
        }
      ],
      "source": [
        "# Rellenar valores nulos en variables numéricas con la mediana de cada columna\n",
        "for col in numeric_cols:\n",
        "    df_bmw[col].fillna(df_bmw[col].median(), inplace=True)\n",
        "\n",
        "# Verificar que ya no haya nulos en variables numéricas\n",
        "print(\"Valores nulos después del tratamiento:\\n\", df_bmw[[\"km\", \"potencia\", \"precio\"]].isnull().sum())"
      ]
    },
    {
      "cell_type": "code",
      "execution_count": 296,
      "metadata": {},
      "outputs": [
        {
          "data": {
            "text/html": [
              "<div>\n",
              "<style scoped>\n",
              "    .dataframe tbody tr th:only-of-type {\n",
              "        vertical-align: middle;\n",
              "    }\n",
              "\n",
              "    .dataframe tbody tr th {\n",
              "        vertical-align: top;\n",
              "    }\n",
              "\n",
              "    .dataframe thead th {\n",
              "        text-align: right;\n",
              "    }\n",
              "</style>\n",
              "<table border=\"1\" class=\"dataframe\">\n",
              "  <thead>\n",
              "    <tr style=\"text-align: right;\">\n",
              "      <th></th>\n",
              "      <th>% Nulos</th>\n",
              "    </tr>\n",
              "  </thead>\n",
              "  <tbody>\n",
              "    <tr>\n",
              "      <th>fecha_registro</th>\n",
              "      <td>50.030973</td>\n",
              "    </tr>\n",
              "    <tr>\n",
              "      <th>tipo_coche</th>\n",
              "      <td>30.146603</td>\n",
              "    </tr>\n",
              "    <tr>\n",
              "      <th>bluetooth</th>\n",
              "      <td>15.032005</td>\n",
              "    </tr>\n",
              "    <tr>\n",
              "      <th>alerta_lim_velocidad</th>\n",
              "      <td>15.032005</td>\n",
              "    </tr>\n",
              "    <tr>\n",
              "      <th>aire_acondicionado</th>\n",
              "      <td>10.035102</td>\n",
              "    </tr>\n",
              "    <tr>\n",
              "      <th>color</th>\n",
              "      <td>9.188520</td>\n",
              "    </tr>\n",
              "    <tr>\n",
              "      <th>precio</th>\n",
              "      <td>0.123890</td>\n",
              "    </tr>\n",
              "    <tr>\n",
              "      <th>tipo_gasolina</th>\n",
              "      <td>0.103242</td>\n",
              "    </tr>\n",
              "    <tr>\n",
              "      <th>volante_regulable</th>\n",
              "      <td>0.082593</td>\n",
              "    </tr>\n",
              "    <tr>\n",
              "      <th>modelo</th>\n",
              "      <td>0.061945</td>\n",
              "    </tr>\n",
              "    <tr>\n",
              "      <th>camara_trasera</th>\n",
              "      <td>0.041297</td>\n",
              "    </tr>\n",
              "    <tr>\n",
              "      <th>elevalunas_electrico</th>\n",
              "      <td>0.041297</td>\n",
              "    </tr>\n",
              "    <tr>\n",
              "      <th>fecha_venta</th>\n",
              "      <td>0.020648</td>\n",
              "    </tr>\n",
              "    <tr>\n",
              "      <th>km</th>\n",
              "      <td>0.000000</td>\n",
              "    </tr>\n",
              "    <tr>\n",
              "      <th>potencia</th>\n",
              "      <td>0.000000</td>\n",
              "    </tr>\n",
              "    <tr>\n",
              "      <th>gps</th>\n",
              "      <td>0.000000</td>\n",
              "    </tr>\n",
              "  </tbody>\n",
              "</table>\n",
              "</div>"
            ],
            "text/plain": [
              "                        % Nulos\n",
              "fecha_registro        50.030973\n",
              "tipo_coche            30.146603\n",
              "bluetooth             15.032005\n",
              "alerta_lim_velocidad  15.032005\n",
              "aire_acondicionado    10.035102\n",
              "color                  9.188520\n",
              "precio                 0.123890\n",
              "tipo_gasolina          0.103242\n",
              "volante_regulable      0.082593\n",
              "modelo                 0.061945\n",
              "camara_trasera         0.041297\n",
              "elevalunas_electrico   0.041297\n",
              "fecha_venta            0.020648\n",
              "km                     0.000000\n",
              "potencia               0.000000\n",
              "gps                    0.000000"
            ]
          },
          "execution_count": 296,
          "metadata": {},
          "output_type": "execute_result"
        }
      ],
      "source": [
        "# vuelvo a revisar el porcentage de las variables y sus nulos para ver que tengan 0 kas que modifique y cuales me quedan, me quedan las categoricas.\n",
        "missing_values = df_bmw.isnull().sum() / len(df_bmw) * 100\n",
        "\n",
        "# Crear un DataFrame para visualizar mejor\n",
        "columns_analysis = pd.DataFrame({\"% Nulos\": missing_values}).sort_values(by=\"% Nulos\", ascending=False)\n",
        "columns_analysis"
      ]
    },
    {
      "cell_type": "markdown",
      "metadata": {
        "id": "79TBFOgfP-jy"
      },
      "source": [
        "### NULOS de variables CATEGORICAS:\n",
        "\n",
        "Aqui las varuables que mas duda me da rellenar serian : \n",
        "- FECHA REGISTRO , porque tiene 50% nulos\n",
        "- TIPO DE COCHE , porqeu tiene 30% nulos y porque no se si estaria bien ponerle cualquier tipo a cualquier coche\n",
        "- BLUETOOTH, es relevante? o con la moda iria bien ?\n",
        "- ALERTA LIMITE VELOCIDAD, es relevante? o con la moda iria bien ?\n",
        "\n",
        "las demas el % es muy bajo y no habria problema supongo en poner la moda"
      ]
    },
    {
      "cell_type": "code",
      "execution_count": 305,
      "metadata": {},
      "outputs": [],
      "source": [
        "# Filtrar solo columnas categóricas\n",
        "categoric_df = df_bmw.select_dtypes(include=['object'])\n",
        "categoric_df\n",
        "# deberia rellenar con la moda?? \n",
        "\n",
        "modified_categoric = categoric_cols\n",
        "modified_categoric.remove(\"fecha_registro\")\n",
        "modified_categoric.remove(\"tipo_coche\")\n",
        "# estas dos no las estoy llenando con la moda\n",
        "df_bmw_3 = df_bmw\n"
      ]
    },
    {
      "cell_type": "code",
      "execution_count": 308,
      "metadata": {},
      "outputs": [
        {
          "data": {
            "text/plain": [
              "['modelo',\n",
              " 'tipo_gasolina',\n",
              " 'color',\n",
              " 'volante_regulable',\n",
              " 'aire_acondicionado',\n",
              " 'camara_trasera',\n",
              " 'elevalunas_electrico',\n",
              " 'bluetooth',\n",
              " 'alerta_lim_velocidad',\n",
              " 'fecha_venta']"
            ]
          },
          "execution_count": 308,
          "metadata": {},
          "output_type": "execute_result"
        }
      ],
      "source": [
        "modified_categoric"
      ]
    },
    {
      "cell_type": "code",
      "execution_count": 306,
      "metadata": {},
      "outputs": [],
      "source": [
        "# Rellenar con el valor más frecuente (moda) en cada columna categórica, a las vars que tienen menor porcentaje solamente:\n",
        "for col in modified_categoric:\n",
        "    df_bmw_3[col].fillna(df_bmw_3[col].mode()[0], inplace=True)\n",
        " "
      ]
    },
    {
      "cell_type": "markdown",
      "metadata": {
        "id": "V6kUq6lCQBSM"
      },
      "source": [
        "# 4. Analisis univariable"
      ]
    },
    {
      "cell_type": "code",
      "execution_count": 299,
      "metadata": {},
      "outputs": [],
      "source": [
        "# Decidimos el theme que queremos\n",
        "sns.set_theme(style = \"white\")\n",
        "\n",
        "# Configuración global en Matplotlib para quitar todos los bordes\n",
        "plt.rcParams['axes.spines.top'] = False\n",
        "plt.rcParams['axes.spines.right'] = False\n",
        "plt.rcParams['axes.spines.left'] = False\n",
        "plt.rcParams['axes.spines.bottom'] = False"
      ]
    },
    {
      "cell_type": "markdown",
      "metadata": {},
      "source": [
        "## numericas"
      ]
    },
    {
      "cell_type": "code",
      "execution_count": 300,
      "metadata": {},
      "outputs": [
        {
          "data": {
            "image/png": "[encoded data removed]",
            "text/plain": [
              "<Figure size 640x480 with 1 Axes>"
            ]
          },
          "metadata": {},
          "output_type": "display_data"
        }
      ],
      "source": [
        "#analisis de la variable KM\n",
        "sns.histplot(data=df_bmw, x=\"km\", bins=18,color=\"yellowgreen\", kde = True)\n",
        "\n",
        "plt.show();"
      ]
    },
    {
      "cell_type": "markdown",
      "metadata": {},
      "source": [
        "la variable km se encuentra distribuida mas hacia la izquierda"
      ]
    },
    {
      "cell_type": "code",
      "execution_count": 301,
      "metadata": {},
      "outputs": [
        {
          "data": {
            "image/png": "[encoded data removed]",
            "text/plain": [
              "<Figure size 640x480 with 1 Axes>"
            ]
          },
          "metadata": {},
          "output_type": "display_data"
        }
      ],
      "source": [
        "#analisis de la variable potencia\n",
        "sns.histplot(data=df_bmw, x=\"potencia\", bins=18,color=\"lightblue\", kde = True)\n",
        "\n",
        "plt.show();"
      ]
    },
    {
      "cell_type": "markdown",
      "metadata": {},
      "source": []
    },
    {
      "cell_type": "code",
      "execution_count": 302,
      "metadata": {},
      "outputs": [
        {
          "data": {
            "image/png": "[encoded data removed]",
            "text/plain": [
              "<Figure size 640x480 with 1 Axes>"
            ]
          },
          "metadata": {},
          "output_type": "display_data"
        }
      ],
      "source": [
        "#analisis de la variable precio (NUESTRO TARGET)\n",
        "sns.histplot(data=df_bmw, x=\"precio\", bins=18,color=\"orange\", kde = True)\n",
        "\n",
        "plt.show();"
      ]
    },
    {
      "cell_type": "markdown",
      "metadata": {},
      "source": [
        "# categoricas"
      ]
    },
    {
      "cell_type": "code",
      "execution_count": 303,
      "metadata": {},
      "outputs": [
        {
          "name": "stdout",
          "output_type": "stream",
          "text": [
            "\n",
            "Frecuencia de modelo:\n",
            "\n",
            "modelo\n",
            "320                15.567501\n",
            "520                13.065950\n",
            "318                11.722142\n",
            "X3                  9.055200\n",
            "116                 7.401282\n",
            "                     ...    \n",
            "M135                0.020674\n",
            "225                 0.020674\n",
            "i8                  0.020674\n",
            "630                 0.020674\n",
            "214 Gran Tourer     0.020674\n",
            "Name: proportion, Length: 76, dtype: float64\n",
            "----------------------------------------\n",
            "\n",
            "Frecuencia de fecha_registro:\n",
            "\n",
            "fecha_registro\n",
            "2013-07-01    51.912342\n",
            "2014-03-01     1.715940\n",
            "2014-05-01     1.674592\n",
            "2013-01-01     1.612570\n",
            "2013-10-01     1.591896\n",
            "                ...    \n",
            "2007-01-01     0.020674\n",
            "1990-03-01     0.020674\n",
            "2006-11-01     0.020674\n",
            "1994-01-01     0.020674\n",
            "2005-09-01     0.020674\n",
            "Name: proportion, Length: 180, dtype: float64\n",
            "----------------------------------------\n",
            "\n",
            "Frecuencia de tipo_gasolina:\n",
            "\n",
            "tipo_gasolina\n",
            "diesel           95.720488\n",
            "petrol            3.948729\n",
            "hybrid_petrol     0.165392\n",
            "Diesel            0.103370\n",
            "electro           0.062022\n",
            "Name: proportion, dtype: float64\n",
            "----------------------------------------\n",
            "\n",
            "Frecuencia de color:\n",
            "\n",
            "color\n",
            "black     40.148853\n",
            "grey      22.100476\n",
            "blue      13.314038\n",
            "white     10.006202\n",
            "brown      6.243539\n",
            "silver     6.036800\n",
            "red        0.971677\n",
            "beige      0.764937\n",
            "green      0.289436\n",
            "orange     0.124044\n",
            "Name: proportion, dtype: float64\n",
            "----------------------------------------\n",
            "\n",
            "Frecuencia de tipo_coche:\n",
            "\n",
            "tipo_coche\n",
            "estate         52.966715\n",
            "sedan          16.973331\n",
            "suv            15.608848\n",
            "hatchback      10.088898\n",
            "subcompact      1.591896\n",
            "coupe           1.550548\n",
            "convertible     0.620219\n",
            "van             0.599545\n",
            "Name: proportion, dtype: float64\n",
            "----------------------------------------\n",
            "\n",
            "Frecuencia de volante_regulable:\n",
            "\n",
            "volante_regulable\n",
            "True     55.034112\n",
            "False    44.965888\n",
            "Name: proportion, dtype: float64\n",
            "----------------------------------------\n",
            "\n",
            "Frecuencia de aire_acondicionado:\n",
            "\n",
            "aire_acondicionado\n",
            "True     81.579491\n",
            "False    18.420509\n",
            "Name: proportion, dtype: float64\n",
            "----------------------------------------\n",
            "\n",
            "Frecuencia de camara_trasera:\n",
            "\n",
            "camara_trasera\n",
            "False    79.863552\n",
            "True     20.136448\n",
            "Name: proportion, dtype: float64\n",
            "----------------------------------------\n",
            "\n",
            "Frecuencia de elevalunas_electrico:\n",
            "\n",
            "elevalunas_electrico\n",
            "False    53.97974\n",
            "True     46.02026\n",
            "Name: proportion, dtype: float64\n",
            "----------------------------------------\n",
            "\n",
            "Frecuencia de bluetooth:\n",
            "\n",
            "bluetooth\n",
            "False    79.450072\n",
            "True     20.549928\n",
            "Name: proportion, dtype: float64\n",
            "----------------------------------------\n",
            "\n",
            "Frecuencia de alerta_lim_velocidad:\n",
            "\n",
            "alerta_lim_velocidad\n",
            "True     61.298325\n",
            "False    38.701675\n",
            "Name: proportion, dtype: float64\n",
            "----------------------------------------\n",
            "\n",
            "Frecuencia de fecha_venta:\n",
            "\n",
            "fecha_venta\n",
            "2018-05-01    16.725243\n",
            "2018-03-01    15.195369\n",
            "2018-04-01    14.285714\n",
            "2018-06-01    12.466405\n",
            "2018-07-01    11.101923\n",
            "2018-08-01    10.895183\n",
            "2018-02-01    10.336986\n",
            "2018-09-01     4.610296\n",
            "2018-01-01     4.300186\n",
            "2007-08-01     0.020674\n",
            "2010-04-01     0.020674\n",
            "2009-04-01     0.020674\n",
            "2008-06-01     0.020674\n",
            "Name: proportion, dtype: float64\n",
            "----------------------------------------\n"
          ]
        }
      ],
      "source": [
        "\n",
        "# Mostrar frecuencia de cada categoría en algunas variables clave\n",
        "for col in categoric_cols:\n",
        "    print(f\"\\nFrecuencia de {col}:\\n\")\n",
        "    print(df_bmw.dropna()[col].value_counts(normalize=True) * 100) \n",
        "    # Mostrar en porcentaje\n",
        "    print(\"-\" * 40)"
      ]
    },
    {
      "cell_type": "markdown",
      "metadata": {},
      "source": [
        "Aqui podemos deducir en cada categoria lo siguiente:\n",
        "- el modelo 320 y 520 son los más comunes.\n",
        "- diesel es el tipo de combustible más frecuente.\n",
        "- negro y blanco son los colores más populares. \n",
        "- estate es el tipo de coche mas comun.\n",
        "- un poco mas de la mitad de coches tienen volante regulable.\n",
        "- el 82% de los coches tienen aire acondicionado.\n",
        "- camara trasera no es tan comun el 20 solamente lo tiene.\n",
        "- el 78% tiene bluetooh.\n",
        "- 62% tiene alerta de limite de velocidad.\n",
        "- y el elevacunas trasero casi la mitad tiene y la otra mitad no.\n",
        "- la fecha de registro la analizare mas abajo.\n",
        "   "
      ]
    },
    {
      "cell_type": "code",
      "execution_count": 304,
      "metadata": {},
      "outputs": [
        {
          "name": "stdout",
          "output_type": "stream",
          "text": [
            "fecha_venta\n",
            "2018-05-01    16.725170\n",
            "2018-03-01    15.238489\n",
            "2018-04-01    14.268016\n",
            "2018-06-01    12.450960\n",
            "2018-07-01    11.088168\n",
            "2018-08-01    10.881685\n",
            "2018-02-01    10.365476\n",
            "2018-09-01     4.604584\n",
            "2018-01-01     4.294859\n",
            "2007-08-01     0.020648\n",
            "2010-04-01     0.020648\n",
            "2009-04-01     0.020648\n",
            "2008-06-01     0.020648\n",
            "Name: proportion, dtype: float64\n"
          ]
        }
      ],
      "source": [
        "print(df_bmw[col].value_counts(normalize=True) * 100) "
      ]
    },
    {
      "cell_type": "markdown",
      "metadata": {},
      "source": []
    },
    {
      "cell_type": "markdown",
      "metadata": {},
      "source": [
        "# 5. Correlación de los datos"
      ]
    },
    {
      "cell_type": "markdown",
      "metadata": {},
      "source": []
    }
  ],
  "metadata": {
    "colab": {
      "provenance": []
    },
    "kernelspec": {
      "display_name": "Python 3",
      "name": "python3"
    },
    "language_info": {
      "codemirror_mode": {
        "name": "ipython",
        "version": 3
      },
      "file_extension": ".py",
      "mimetype": "text/x-python",
      "name": "python",
      "nbconvert_exporter": "python",
      "pygments_lexer": "ipython3",
      "version": "3.13.0"
    }
  },
  "nbformat": 4,
  "nbformat_minor": 0
}
